{
 "cells": [
  {
   "cell_type": "code",
   "id": "5e63f0f5f9efe448",
   "metadata": {
    "collapsed": true,
    "ExecuteTime": {
     "end_time": "2024-08-07T18:49:48.013471Z",
     "start_time": "2024-08-07T18:49:47.995376Z"
    }
   },
   "source": [
    "from scipy.stats import gamma, binom\n",
    "from Operator import Operator\n",
    "%load_ext autoreload\n",
    "%autoreload 2\n",
    "# gamma params\n",
    "a = 10\n",
    "b = 20\n",
    "\n",
    "upper = 100_000\n",
    "lower = 0\n",
    "\n",
    "# binom params\n",
    "n = 30\n",
    "p = .2\n",
    "operator = Operator()\n",
    "operator.create_quantity('s1', gamma.pdf, cdf=gamma.cdf, sample=gamma.rvs, kwargs={'a': 10, 'scale': 20},\n",
    "                         domain_type='c')\n",
    "operator.create_quantity('s2', gamma.pdf, cdf=gamma.cdf, sample=gamma.rvs, kwargs={'a': 10, 'scale': 20},\n",
    "                         domain_type='c')\n",
    "operator.create_quantity('n_sales', binom.pmf, cdf=binom.cdf, sample=binom.rvs, kwargs={'n': 30, 'p': .2},\n",
    "                         domain_type='d')\n",
    "operator.create_cc_convolution('s3', operator.quantities['s1'], operator.quantities['s2'], '*')\n",
    "\n",
    "# operator.visualize_quantity(operator.quantities['s3'].cdf, 0, 100, ) "
   ],
   "outputs": [
    {
     "name": "stdout",
     "output_type": "stream",
     "text": [
      "The autoreload extension is already loaded. To reload it, use:\n",
      "  %reload_ext autoreload\n"
     ]
    }
   ],
   "execution_count": 4
  },
  {
   "metadata": {
    "ExecuteTime": {
     "end_time": "2024-08-07T18:49:48.457824Z",
     "start_time": "2024-08-07T18:49:48.014681Z"
    }
   },
   "cell_type": "code",
   "source": [
    "print(operator.quantities['s3'].pdf(10000),\n",
    "operator.quantities['s3'].pdf(20000),\n",
    "operator.quantities['s3'].pdf(30000),\n",
    "operator.quantities['s3'].pdf(40000),\n",
    "operator.quantities['s3'].pdf(50000),\n",
    "operator.quantities['s3'].pdf(60000),operator.quantities['s3'].pdf(70000),\n",
    "operator.quantities['s3'].pdf(80000),\n",
    "operator.quantities['s3'].pdf(90000),\n",
    "operator.quantities['s3'].pdf(100000),\n",
    "operator.quantities['s3'].pdf(110000),)\n"
   ],
   "id": "initial_id",
   "outputs": [
    {
     "name": "stdout",
     "output_type": "stream",
     "text": [
      "2.5753550968534074e-06 1.7676920457229843e-05 2.5617625316008645e-05 2.1815182406227283e-05 1.4523442776295451e-05 8.448815083767366e-06 4.533358515804371e-06 2.3298871962545678e-06 1.1819810967633983e-06 6.015797658886444e-07 3.070001042460668e-07\n"
     ]
    }
   ],
   "execution_count": 5
  },
  {
   "metadata": {
    "ExecuteTime": {
     "end_time": "2024-08-07T18:49:55.461361Z",
     "start_time": "2024-08-07T18:49:48.458436Z"
    }
   },
   "cell_type": "code",
   "source": [
    "import numpy as np\n",
    "from helpers import plot_line\n",
    "\n",
    "discrete = 'n'\n",
    "if discrete == 'n':\n",
    "    x = np.linspace(lower, upper, 20)\n",
    "else:\n",
    "    x = np.linspace(lower, upper, 20)\n",
    "\n",
    "y = []\n",
    "for i, x_ in enumerate(x):\n",
    "    y.append(operator.quantities['s3'].cdf(x_))\n",
    "plot_line(x=x, y=y)"
   ],
   "id": "8aa5db8278c4ccd3",
   "outputs": [
    {
     "ename": "KeyboardInterrupt",
     "evalue": "",
     "output_type": "error",
     "traceback": [
      "\u001B[0;31m---------------------------------------------------------------------------\u001B[0m",
      "\u001B[0;31mKeyboardInterrupt\u001B[0m                         Traceback (most recent call last)",
      "Cell \u001B[0;32mIn[6], line 12\u001B[0m\n\u001B[1;32m     10\u001B[0m y \u001B[38;5;241m=\u001B[39m []\n\u001B[1;32m     11\u001B[0m \u001B[38;5;28;01mfor\u001B[39;00m i, x_ \u001B[38;5;129;01min\u001B[39;00m \u001B[38;5;28menumerate\u001B[39m(x):\n\u001B[0;32m---> 12\u001B[0m     y\u001B[38;5;241m.\u001B[39mappend(\u001B[43moperator\u001B[49m\u001B[38;5;241;43m.\u001B[39;49m\u001B[43mquantities\u001B[49m\u001B[43m[\u001B[49m\u001B[38;5;124;43m'\u001B[39;49m\u001B[38;5;124;43ms3\u001B[39;49m\u001B[38;5;124;43m'\u001B[39;49m\u001B[43m]\u001B[49m\u001B[38;5;241;43m.\u001B[39;49m\u001B[43mcdf\u001B[49m\u001B[43m(\u001B[49m\u001B[43mx_\u001B[49m\u001B[43m)\u001B[49m)\n\u001B[1;32m     13\u001B[0m plot_line(x\u001B[38;5;241m=\u001B[39mx, y\u001B[38;5;241m=\u001B[39my)\n",
      "File \u001B[0;32m~/codeprojects/financial-modeling/Distribution.py:88\u001B[0m, in \u001B[0;36mConvolutionDistributionContinuous.cdf\u001B[0;34m(self, z)\u001B[0m\n\u001B[1;32m     87\u001B[0m \u001B[38;5;28;01mdef\u001B[39;00m \u001B[38;5;21mcdf\u001B[39m(\u001B[38;5;28mself\u001B[39m, z):\n\u001B[0;32m---> 88\u001B[0m     result \u001B[38;5;241m=\u001B[39m \u001B[43mintegrate\u001B[49m\u001B[38;5;241;43m.\u001B[39;49m\u001B[43mquad\u001B[49m\u001B[43m(\u001B[49m\u001B[38;5;28;43mself\u001B[39;49m\u001B[38;5;241;43m.\u001B[39;49m\u001B[43mpdf\u001B[49m\u001B[43m,\u001B[49m\u001B[43m \u001B[49m\u001B[38;5;241;43m0\u001B[39;49m\u001B[43m,\u001B[49m\u001B[43m \u001B[49m\u001B[43mz\u001B[49m\u001B[43m)\u001B[49m[\u001B[38;5;241m0\u001B[39m]\n\u001B[1;32m     90\u001B[0m     \u001B[38;5;28;01mreturn\u001B[39;00m result\n",
      "File \u001B[0;32m~/codeprojects/financial-modeling/venv/lib/python3.12/site-packages/scipy/integrate/_quadpack_py.py:459\u001B[0m, in \u001B[0;36mquad\u001B[0;34m(func, a, b, args, full_output, epsabs, epsrel, limit, points, weight, wvar, wopts, maxp1, limlst, complex_func)\u001B[0m\n\u001B[1;32m    456\u001B[0m     \u001B[38;5;28;01mreturn\u001B[39;00m retval\n\u001B[1;32m    458\u001B[0m \u001B[38;5;28;01mif\u001B[39;00m weight \u001B[38;5;129;01mis\u001B[39;00m \u001B[38;5;28;01mNone\u001B[39;00m:\n\u001B[0;32m--> 459\u001B[0m     retval \u001B[38;5;241m=\u001B[39m \u001B[43m_quad\u001B[49m\u001B[43m(\u001B[49m\u001B[43mfunc\u001B[49m\u001B[43m,\u001B[49m\u001B[43m \u001B[49m\u001B[43ma\u001B[49m\u001B[43m,\u001B[49m\u001B[43m \u001B[49m\u001B[43mb\u001B[49m\u001B[43m,\u001B[49m\u001B[43m \u001B[49m\u001B[43margs\u001B[49m\u001B[43m,\u001B[49m\u001B[43m \u001B[49m\u001B[43mfull_output\u001B[49m\u001B[43m,\u001B[49m\u001B[43m \u001B[49m\u001B[43mepsabs\u001B[49m\u001B[43m,\u001B[49m\u001B[43m \u001B[49m\u001B[43mepsrel\u001B[49m\u001B[43m,\u001B[49m\u001B[43m \u001B[49m\u001B[43mlimit\u001B[49m\u001B[43m,\u001B[49m\n\u001B[1;32m    460\u001B[0m \u001B[43m                   \u001B[49m\u001B[43mpoints\u001B[49m\u001B[43m)\u001B[49m\n\u001B[1;32m    461\u001B[0m \u001B[38;5;28;01melse\u001B[39;00m:\n\u001B[1;32m    462\u001B[0m     \u001B[38;5;28;01mif\u001B[39;00m points \u001B[38;5;129;01mis\u001B[39;00m \u001B[38;5;129;01mnot\u001B[39;00m \u001B[38;5;28;01mNone\u001B[39;00m:\n",
      "File \u001B[0;32m~/codeprojects/financial-modeling/venv/lib/python3.12/site-packages/scipy/integrate/_quadpack_py.py:606\u001B[0m, in \u001B[0;36m_quad\u001B[0;34m(func, a, b, args, full_output, epsabs, epsrel, limit, points)\u001B[0m\n\u001B[1;32m    604\u001B[0m \u001B[38;5;28;01mif\u001B[39;00m points \u001B[38;5;129;01mis\u001B[39;00m \u001B[38;5;28;01mNone\u001B[39;00m:\n\u001B[1;32m    605\u001B[0m     \u001B[38;5;28;01mif\u001B[39;00m infbounds \u001B[38;5;241m==\u001B[39m \u001B[38;5;241m0\u001B[39m:\n\u001B[0;32m--> 606\u001B[0m         \u001B[38;5;28;01mreturn\u001B[39;00m \u001B[43m_quadpack\u001B[49m\u001B[38;5;241;43m.\u001B[39;49m\u001B[43m_qagse\u001B[49m\u001B[43m(\u001B[49m\u001B[43mfunc\u001B[49m\u001B[43m,\u001B[49m\u001B[43ma\u001B[49m\u001B[43m,\u001B[49m\u001B[43mb\u001B[49m\u001B[43m,\u001B[49m\u001B[43margs\u001B[49m\u001B[43m,\u001B[49m\u001B[43mfull_output\u001B[49m\u001B[43m,\u001B[49m\u001B[43mepsabs\u001B[49m\u001B[43m,\u001B[49m\u001B[43mepsrel\u001B[49m\u001B[43m,\u001B[49m\u001B[43mlimit\u001B[49m\u001B[43m)\u001B[49m\n\u001B[1;32m    607\u001B[0m     \u001B[38;5;28;01melse\u001B[39;00m:\n\u001B[1;32m    608\u001B[0m         \u001B[38;5;28;01mreturn\u001B[39;00m _quadpack\u001B[38;5;241m.\u001B[39m_qagie(func, bound, infbounds, args, full_output, \n\u001B[1;32m    609\u001B[0m                                 epsabs, epsrel, limit)\n",
      "File \u001B[0;32m~/codeprojects/financial-modeling/Distribution.py:82\u001B[0m, in \u001B[0;36mConvolutionDistributionContinuous.pdf\u001B[0;34m(self, z, points_amt)\u001B[0m\n\u001B[1;32m     79\u001B[0m a_points \u001B[38;5;241m=\u001B[39m points[\u001B[38;5;241m0\u001B[39m:points_amt \u001B[38;5;241m-\u001B[39m \u001B[38;5;241m1\u001B[39m]\n\u001B[1;32m     80\u001B[0m b_points \u001B[38;5;241m=\u001B[39m points[\u001B[38;5;241m1\u001B[39m:points_amt]\n\u001B[0;32m---> 82\u001B[0m result \u001B[38;5;241m=\u001B[39m np\u001B[38;5;241m.\u001B[39msum([\u001B[43mquad\u001B[49m\u001B[43m(\u001B[49m\u001B[38;5;28;43mself\u001B[39;49m\u001B[38;5;241;43m.\u001B[39;49m\u001B[43mpdf_integrand\u001B[49m\u001B[43m,\u001B[49m\u001B[43m \u001B[49m\u001B[43ma\u001B[49m\u001B[43m,\u001B[49m\u001B[43m \u001B[49m\u001B[43mb\u001B[49m\u001B[43m,\u001B[49m\u001B[43m \u001B[49m\u001B[43mepsabs\u001B[49m\u001B[38;5;241;43m=\u001B[39;49m\u001B[38;5;241;43m1e-3\u001B[39;49m\u001B[43m,\u001B[49m\u001B[43m \u001B[49m\u001B[43margs\u001B[49m\u001B[38;5;241;43m=\u001B[39;49m\u001B[43m(\u001B[49m\u001B[43mz\u001B[49m\u001B[43m,\u001B[49m\u001B[43m)\u001B[49m\u001B[43m)\u001B[49m[\u001B[38;5;241m0\u001B[39m] \u001B[38;5;28;01mfor\u001B[39;00m a, b \u001B[38;5;129;01min\u001B[39;00m \u001B[38;5;28mzip\u001B[39m(a_points, b_points)])\n\u001B[1;32m     84\u001B[0m \u001B[38;5;28;01mreturn\u001B[39;00m result\n",
      "File \u001B[0;32m~/codeprojects/financial-modeling/venv/lib/python3.12/site-packages/scipy/integrate/_quadpack_py.py:459\u001B[0m, in \u001B[0;36mquad\u001B[0;34m(func, a, b, args, full_output, epsabs, epsrel, limit, points, weight, wvar, wopts, maxp1, limlst, complex_func)\u001B[0m\n\u001B[1;32m    456\u001B[0m     \u001B[38;5;28;01mreturn\u001B[39;00m retval\n\u001B[1;32m    458\u001B[0m \u001B[38;5;28;01mif\u001B[39;00m weight \u001B[38;5;129;01mis\u001B[39;00m \u001B[38;5;28;01mNone\u001B[39;00m:\n\u001B[0;32m--> 459\u001B[0m     retval \u001B[38;5;241m=\u001B[39m \u001B[43m_quad\u001B[49m\u001B[43m(\u001B[49m\u001B[43mfunc\u001B[49m\u001B[43m,\u001B[49m\u001B[43m \u001B[49m\u001B[43ma\u001B[49m\u001B[43m,\u001B[49m\u001B[43m \u001B[49m\u001B[43mb\u001B[49m\u001B[43m,\u001B[49m\u001B[43m \u001B[49m\u001B[43margs\u001B[49m\u001B[43m,\u001B[49m\u001B[43m \u001B[49m\u001B[43mfull_output\u001B[49m\u001B[43m,\u001B[49m\u001B[43m \u001B[49m\u001B[43mepsabs\u001B[49m\u001B[43m,\u001B[49m\u001B[43m \u001B[49m\u001B[43mepsrel\u001B[49m\u001B[43m,\u001B[49m\u001B[43m \u001B[49m\u001B[43mlimit\u001B[49m\u001B[43m,\u001B[49m\n\u001B[1;32m    460\u001B[0m \u001B[43m                   \u001B[49m\u001B[43mpoints\u001B[49m\u001B[43m)\u001B[49m\n\u001B[1;32m    461\u001B[0m \u001B[38;5;28;01melse\u001B[39;00m:\n\u001B[1;32m    462\u001B[0m     \u001B[38;5;28;01mif\u001B[39;00m points \u001B[38;5;129;01mis\u001B[39;00m \u001B[38;5;129;01mnot\u001B[39;00m \u001B[38;5;28;01mNone\u001B[39;00m:\n",
      "File \u001B[0;32m~/codeprojects/financial-modeling/venv/lib/python3.12/site-packages/scipy/integrate/_quadpack_py.py:606\u001B[0m, in \u001B[0;36m_quad\u001B[0;34m(func, a, b, args, full_output, epsabs, epsrel, limit, points)\u001B[0m\n\u001B[1;32m    604\u001B[0m \u001B[38;5;28;01mif\u001B[39;00m points \u001B[38;5;129;01mis\u001B[39;00m \u001B[38;5;28;01mNone\u001B[39;00m:\n\u001B[1;32m    605\u001B[0m     \u001B[38;5;28;01mif\u001B[39;00m infbounds \u001B[38;5;241m==\u001B[39m \u001B[38;5;241m0\u001B[39m:\n\u001B[0;32m--> 606\u001B[0m         \u001B[38;5;28;01mreturn\u001B[39;00m \u001B[43m_quadpack\u001B[49m\u001B[38;5;241;43m.\u001B[39;49m\u001B[43m_qagse\u001B[49m\u001B[43m(\u001B[49m\u001B[43mfunc\u001B[49m\u001B[43m,\u001B[49m\u001B[43ma\u001B[49m\u001B[43m,\u001B[49m\u001B[43mb\u001B[49m\u001B[43m,\u001B[49m\u001B[43margs\u001B[49m\u001B[43m,\u001B[49m\u001B[43mfull_output\u001B[49m\u001B[43m,\u001B[49m\u001B[43mepsabs\u001B[49m\u001B[43m,\u001B[49m\u001B[43mepsrel\u001B[49m\u001B[43m,\u001B[49m\u001B[43mlimit\u001B[49m\u001B[43m)\u001B[49m\n\u001B[1;32m    607\u001B[0m     \u001B[38;5;28;01melse\u001B[39;00m:\n\u001B[1;32m    608\u001B[0m         \u001B[38;5;28;01mreturn\u001B[39;00m _quadpack\u001B[38;5;241m.\u001B[39m_qagie(func, bound, infbounds, args, full_output, \n\u001B[1;32m    609\u001B[0m                                 epsabs, epsrel, limit)\n",
      "File \u001B[0;32m~/codeprojects/financial-modeling/Distribution.py:75\u001B[0m, in \u001B[0;36mConvolutionDistributionContinuous.pdf_integrand\u001B[0;34m(self, x, z)\u001B[0m\n\u001B[1;32m     73\u001B[0m \u001B[38;5;28;01mif\u001B[39;00m x \u001B[38;5;241m<\u001B[39m \u001B[38;5;241m1e-4\u001B[39m:\n\u001B[1;32m     74\u001B[0m     \u001B[38;5;28;01mreturn\u001B[39;00m \u001B[38;5;241m0\u001B[39m\n\u001B[0;32m---> 75\u001B[0m \u001B[38;5;28;01mreturn\u001B[39;00m \u001B[38;5;28;43mself\u001B[39;49m\u001B[38;5;241;43m.\u001B[39;49m\u001B[43mpdf_c1\u001B[49m\u001B[43m(\u001B[49m\u001B[43mx\u001B[49m\u001B[43m)\u001B[49m \u001B[38;5;241m*\u001B[39m \u001B[38;5;28mself\u001B[39m\u001B[38;5;241m.\u001B[39mpdf_c2(z \u001B[38;5;241m/\u001B[39m x) \u001B[38;5;241m*\u001B[39m (\u001B[38;5;241m1\u001B[39m \u001B[38;5;241m/\u001B[39m np\u001B[38;5;241m.\u001B[39mabs(x))\n",
      "File \u001B[0;32m~/codeprojects/financial-modeling/Distribution.py:17\u001B[0m, in \u001B[0;36mDistribution.pdf\u001B[0;34m(self, x)\u001B[0m\n\u001B[1;32m     16\u001B[0m \u001B[38;5;28;01mdef\u001B[39;00m \u001B[38;5;21mpdf\u001B[39m(\u001B[38;5;28mself\u001B[39m, x):\n\u001B[0;32m---> 17\u001B[0m     \u001B[38;5;28;01mreturn\u001B[39;00m \u001B[38;5;28;43mself\u001B[39;49m\u001B[38;5;241;43m.\u001B[39;49m\u001B[43mpdf_f\u001B[49m\u001B[43m(\u001B[49m\u001B[43mx\u001B[49m\u001B[43m,\u001B[49m\u001B[43m \u001B[49m\u001B[38;5;241;43m*\u001B[39;49m\u001B[38;5;241;43m*\u001B[39;49m\u001B[38;5;28;43mself\u001B[39;49m\u001B[38;5;241;43m.\u001B[39;49m\u001B[43mkwargs\u001B[49m\u001B[43m)\u001B[49m\n",
      "File \u001B[0;32m~/codeprojects/financial-modeling/venv/lib/python3.12/site-packages/scipy/stats/_distn_infrastructure.py:2034\u001B[0m, in \u001B[0;36mrv_continuous.pdf\u001B[0;34m(self, x, *args, **kwds)\u001B[0m\n\u001B[1;32m   2032\u001B[0m putmask(output, (\u001B[38;5;241m1\u001B[39m\u001B[38;5;241m-\u001B[39mcond0)\u001B[38;5;241m+\u001B[39mnp\u001B[38;5;241m.\u001B[39misnan(x), \u001B[38;5;28mself\u001B[39m\u001B[38;5;241m.\u001B[39mbadvalue)\n\u001B[1;32m   2033\u001B[0m \u001B[38;5;28;01mif\u001B[39;00m np\u001B[38;5;241m.\u001B[39many(cond):\n\u001B[0;32m-> 2034\u001B[0m     goodargs \u001B[38;5;241m=\u001B[39m \u001B[43margsreduce\u001B[49m\u001B[43m(\u001B[49m\u001B[43mcond\u001B[49m\u001B[43m,\u001B[49m\u001B[43m \u001B[49m\u001B[38;5;241;43m*\u001B[39;49m\u001B[43m(\u001B[49m\u001B[43m(\u001B[49m\u001B[43mx\u001B[49m\u001B[43m,\u001B[49m\u001B[43m)\u001B[49m\u001B[38;5;241;43m+\u001B[39;49m\u001B[43margs\u001B[49m\u001B[38;5;241;43m+\u001B[39;49m\u001B[43m(\u001B[49m\u001B[43mscale\u001B[49m\u001B[43m,\u001B[49m\u001B[43m)\u001B[49m\u001B[43m)\u001B[49m\u001B[43m)\u001B[49m\n\u001B[1;32m   2035\u001B[0m     scale, goodargs \u001B[38;5;241m=\u001B[39m goodargs[\u001B[38;5;241m-\u001B[39m\u001B[38;5;241m1\u001B[39m], goodargs[:\u001B[38;5;241m-\u001B[39m\u001B[38;5;241m1\u001B[39m]\n\u001B[1;32m   2036\u001B[0m     place(output, cond, \u001B[38;5;28mself\u001B[39m\u001B[38;5;241m.\u001B[39m_pdf(\u001B[38;5;241m*\u001B[39mgoodargs) \u001B[38;5;241m/\u001B[39m scale)\n",
      "File \u001B[0;32m~/codeprojects/financial-modeling/venv/lib/python3.12/site-packages/scipy/stats/_distn_infrastructure.py:645\u001B[0m, in \u001B[0;36margsreduce\u001B[0;34m(cond, *args)\u001B[0m\n\u001B[1;32m    641\u001B[0m     newargs \u001B[38;5;241m=\u001B[39m (newargs,)\n\u001B[1;32m    643\u001B[0m \u001B[38;5;28;01mif\u001B[39;00m np\u001B[38;5;241m.\u001B[39mall(cond):\n\u001B[1;32m    644\u001B[0m     \u001B[38;5;66;03m# broadcast arrays with cond\u001B[39;00m\n\u001B[0;32m--> 645\u001B[0m     \u001B[38;5;241m*\u001B[39mnewargs, cond \u001B[38;5;241m=\u001B[39m \u001B[43mnp\u001B[49m\u001B[38;5;241;43m.\u001B[39;49m\u001B[43mbroadcast_arrays\u001B[49m\u001B[43m(\u001B[49m\u001B[38;5;241;43m*\u001B[39;49m\u001B[43mnewargs\u001B[49m\u001B[43m,\u001B[49m\u001B[43m \u001B[49m\u001B[43mcond\u001B[49m\u001B[43m)\u001B[49m\n\u001B[1;32m    646\u001B[0m     \u001B[38;5;28;01mreturn\u001B[39;00m [arg\u001B[38;5;241m.\u001B[39mravel() \u001B[38;5;28;01mfor\u001B[39;00m arg \u001B[38;5;129;01min\u001B[39;00m newargs]\n\u001B[1;32m    648\u001B[0m s \u001B[38;5;241m=\u001B[39m cond\u001B[38;5;241m.\u001B[39mshape\n",
      "File \u001B[0;32m~/codeprojects/financial-modeling/venv/lib/python3.12/site-packages/numpy/lib/_stride_tricks_impl.py:557\u001B[0m, in \u001B[0;36mbroadcast_arrays\u001B[0;34m(subok, *args)\u001B[0m\n\u001B[1;32m    553\u001B[0m \u001B[38;5;28;01mif\u001B[39;00m \u001B[38;5;28mall\u001B[39m(array\u001B[38;5;241m.\u001B[39mshape \u001B[38;5;241m==\u001B[39m shape \u001B[38;5;28;01mfor\u001B[39;00m array \u001B[38;5;129;01min\u001B[39;00m args):\n\u001B[1;32m    554\u001B[0m     \u001B[38;5;66;03m# Common case where nothing needs to be broadcasted.\u001B[39;00m\n\u001B[1;32m    555\u001B[0m     \u001B[38;5;28;01mreturn\u001B[39;00m args\n\u001B[0;32m--> 557\u001B[0m \u001B[38;5;28;01mreturn\u001B[39;00m \u001B[38;5;28;43mtuple\u001B[39;49m\u001B[43m(\u001B[49m\u001B[43m_broadcast_to\u001B[49m\u001B[43m(\u001B[49m\u001B[43marray\u001B[49m\u001B[43m,\u001B[49m\u001B[43m \u001B[49m\u001B[43mshape\u001B[49m\u001B[43m,\u001B[49m\u001B[43m \u001B[49m\u001B[43msubok\u001B[49m\u001B[38;5;241;43m=\u001B[39;49m\u001B[43msubok\u001B[49m\u001B[43m,\u001B[49m\u001B[43m \u001B[49m\u001B[43mreadonly\u001B[49m\u001B[38;5;241;43m=\u001B[39;49m\u001B[38;5;28;43;01mFalse\u001B[39;49;00m\u001B[43m)\u001B[49m\n\u001B[1;32m    558\u001B[0m \u001B[43m             \u001B[49m\u001B[38;5;28;43;01mfor\u001B[39;49;00m\u001B[43m \u001B[49m\u001B[43marray\u001B[49m\u001B[43m \u001B[49m\u001B[38;5;129;43;01min\u001B[39;49;00m\u001B[43m \u001B[49m\u001B[43margs\u001B[49m\u001B[43m)\u001B[49m\n",
      "File \u001B[0;32m~/codeprojects/financial-modeling/venv/lib/python3.12/site-packages/numpy/lib/_stride_tricks_impl.py:557\u001B[0m, in \u001B[0;36m<genexpr>\u001B[0;34m(.0)\u001B[0m\n\u001B[1;32m    553\u001B[0m \u001B[38;5;28;01mif\u001B[39;00m \u001B[38;5;28mall\u001B[39m(array\u001B[38;5;241m.\u001B[39mshape \u001B[38;5;241m==\u001B[39m shape \u001B[38;5;28;01mfor\u001B[39;00m array \u001B[38;5;129;01min\u001B[39;00m args):\n\u001B[1;32m    554\u001B[0m     \u001B[38;5;66;03m# Common case where nothing needs to be broadcasted.\u001B[39;00m\n\u001B[1;32m    555\u001B[0m     \u001B[38;5;28;01mreturn\u001B[39;00m args\n\u001B[0;32m--> 557\u001B[0m \u001B[38;5;28;01mreturn\u001B[39;00m \u001B[38;5;28mtuple\u001B[39m(\u001B[43m_broadcast_to\u001B[49m\u001B[43m(\u001B[49m\u001B[43marray\u001B[49m\u001B[43m,\u001B[49m\u001B[43m \u001B[49m\u001B[43mshape\u001B[49m\u001B[43m,\u001B[49m\u001B[43m \u001B[49m\u001B[43msubok\u001B[49m\u001B[38;5;241;43m=\u001B[39;49m\u001B[43msubok\u001B[49m\u001B[43m,\u001B[49m\u001B[43m \u001B[49m\u001B[43mreadonly\u001B[49m\u001B[38;5;241;43m=\u001B[39;49m\u001B[38;5;28;43;01mFalse\u001B[39;49;00m\u001B[43m)\u001B[49m\n\u001B[1;32m    558\u001B[0m              \u001B[38;5;28;01mfor\u001B[39;00m array \u001B[38;5;129;01min\u001B[39;00m args)\n",
      "File \u001B[0;32m~/codeprojects/financial-modeling/venv/lib/python3.12/site-packages/numpy/lib/_stride_tricks_impl.py:361\u001B[0m, in \u001B[0;36m_broadcast_to\u001B[0;34m(array, shape, subok, readonly)\u001B[0m\n\u001B[1;32m    357\u001B[0m extras \u001B[38;5;241m=\u001B[39m []\n\u001B[1;32m    358\u001B[0m it \u001B[38;5;241m=\u001B[39m np\u001B[38;5;241m.\u001B[39mnditer(\n\u001B[1;32m    359\u001B[0m     (array,), flags\u001B[38;5;241m=\u001B[39m[\u001B[38;5;124m'\u001B[39m\u001B[38;5;124mmulti_index\u001B[39m\u001B[38;5;124m'\u001B[39m, \u001B[38;5;124m'\u001B[39m\u001B[38;5;124mrefs_ok\u001B[39m\u001B[38;5;124m'\u001B[39m, \u001B[38;5;124m'\u001B[39m\u001B[38;5;124mzerosize_ok\u001B[39m\u001B[38;5;124m'\u001B[39m] \u001B[38;5;241m+\u001B[39m extras,\n\u001B[1;32m    360\u001B[0m     op_flags\u001B[38;5;241m=\u001B[39m[\u001B[38;5;124m'\u001B[39m\u001B[38;5;124mreadonly\u001B[39m\u001B[38;5;124m'\u001B[39m], itershape\u001B[38;5;241m=\u001B[39mshape, order\u001B[38;5;241m=\u001B[39m\u001B[38;5;124m'\u001B[39m\u001B[38;5;124mC\u001B[39m\u001B[38;5;124m'\u001B[39m)\n\u001B[0;32m--> 361\u001B[0m \u001B[43m\u001B[49m\u001B[38;5;28;43;01mwith\u001B[39;49;00m\u001B[43m \u001B[49m\u001B[43mit\u001B[49m\u001B[43m:\u001B[49m\n\u001B[1;32m    362\u001B[0m \u001B[43m    \u001B[49m\u001B[38;5;66;43;03m# never really has writebackifcopy semantics\u001B[39;49;00m\n\u001B[1;32m    363\u001B[0m \u001B[43m    \u001B[49m\u001B[43mbroadcast\u001B[49m\u001B[43m \u001B[49m\u001B[38;5;241;43m=\u001B[39;49m\u001B[43m \u001B[49m\u001B[43mit\u001B[49m\u001B[38;5;241;43m.\u001B[39;49m\u001B[43mitviews\u001B[49m\u001B[43m[\u001B[49m\u001B[38;5;241;43m0\u001B[39;49m\u001B[43m]\u001B[49m\n\u001B[1;32m    364\u001B[0m result \u001B[38;5;241m=\u001B[39m _maybe_view_as_subclass(array, broadcast)\n",
      "\u001B[0;31mKeyboardInterrupt\u001B[0m: "
     ]
    }
   ],
   "execution_count": 6
  },
  {
   "metadata": {},
   "cell_type": "code",
   "source": [
    "x = np.linspace(0, 100_000, 10)\n",
    "y = [operator.quantities['s3'].cdf(xx) for xx in x]\n"
   ],
   "id": "3f64c74bb3638b82",
   "outputs": [],
   "execution_count": null
  },
  {
   "metadata": {},
   "cell_type": "code",
   "source": "operator.quantities['s3'].cdf(123123)",
   "id": "4b33e87bffc7f23b",
   "outputs": [],
   "execution_count": null
  },
  {
   "metadata": {},
   "cell_type": "code",
   "source": [
    "import matplotlib.pyplot as plt\n",
    "plt.plot(x, y)"
   ],
   "id": "fbec43aa22f800b6",
   "outputs": [],
   "execution_count": null
  },
  {
   "metadata": {},
   "cell_type": "code",
   "source": "",
   "id": "1e07e132fd3b91f7",
   "outputs": [],
   "execution_count": null
  }
 ],
 "metadata": {
  "kernelspec": {
   "display_name": "Python 3",
   "language": "python",
   "name": "python3"
  },
  "language_info": {
   "codemirror_mode": {
    "name": "ipython",
    "version": 2
   },
   "file_extension": ".py",
   "mimetype": "text/x-python",
   "name": "python",
   "nbconvert_exporter": "python",
   "pygments_lexer": "ipython2",
   "version": "2.7.6"
  }
 },
 "nbformat": 4,
 "nbformat_minor": 5
}
