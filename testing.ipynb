{
 "cells": [
  {
   "metadata": {
    "ExecuteTime": {
     "end_time": "2024-08-06T13:38:08.667966Z",
     "start_time": "2024-08-06T13:38:08.663115Z"
    }
   },
   "cell_type": "code",
   "source": [
    "import numpy as np\n",
    "from matplotlib import pyplot as plt\n",
    "import seaborn as sns\n",
    "\n",
    "def plot_line(x, y):\n",
    "    sns.lineplot(x=x, y=y)\n",
    "\n",
    "    plt.show()\n",
    "\n",
    "\n",
    "def visualize_quantity(f, a, b, discrete='n'):\n",
    "    if discrete == 'n':\n",
    "        x = np.linspace(a, b)\n",
    "    else:\n",
    "        x = list(range(int(a), int(b)))\n",
    "\n",
    "    y = [f(x_) for x_ in x]\n",
    "    plot_line(x=x, y=y)"
   ],
   "id": "44e64a5b45ac4111",
   "outputs": [],
   "execution_count": 1
  },
  {
   "metadata": {
    "ExecuteTime": {
     "end_time": "2024-08-05T17:57:43.906454Z",
     "start_time": "2024-08-05T17:57:43.903595Z"
    }
   },
   "cell_type": "code",
   "source": [
    "from scipy.stats import binom, gamma\n",
    "from Operator import Operator\n",
    "\n",
    "# binom params\n",
    "n = 30\n",
    "p = .2\n",
    "operator = Operator()\n",
    "operator.create_quantity('s1', pdf=gamma.pdf, cdf=gamma.cdf, sample=gamma.rvs, kwargs={'a': 10, 'scale': 200},\n",
    "                         domain_type='c')\n",
    "operator.create_quantity('s2', pdf=gamma.pdf, cdf=gamma.cdf, sample=gamma.rvs, kwargs={'a': 10, 'scale': 200},\n",
    "                         domain_type='c')\n",
    "operator.create_quantity('n_sales', binom.pmf, cdf=binom.cdf, sample=binom.rvs, kwargs={'n': 30, 'p': .2},\n",
    "                         domain_type='d')\n",
    "\n",
    "operator.create_cc_convolution(conv_name='s3', c_quantity1=operator.quantities['s1'], c_quantity2=operator.quantities['s2'], operation='*')"
   ],
   "id": "fc452280c98e3238",
   "outputs": [],
   "execution_count": 58
  },
  {
   "metadata": {
    "ExecuteTime": {
     "end_time": "2024-08-05T17:57:44.635847Z",
     "start_time": "2024-08-05T17:57:43.907404Z"
    }
   },
   "cell_type": "code",
   "source": [
    "from scipy import integrate\n",
    "\n",
    "# operator.visualize_quantity(operator.quantities['s3'].cdf, 0, 20_000_000)\n",
    "a, b = 0, 10_000_000\n",
    "z = 10000\n",
    "operator.visualize_quantity(operator.quantities['s3'].cdf, a, b)\n",
    "# integrate.quad(operator.quantities['s3'].cdf, a, b)[0]\n",
    "\n",
    "# print(operator.quantities['s3'].cdf(1_000_000) > operator.quantities['s3'].cdf(2_000_000))"
   ],
   "id": "a204e43d7f0b00a6",
   "outputs": [
    {
     "name": "stderr",
     "output_type": "stream",
     "text": [
      "/Users/nieminm42/codeprojects/financial-modeling/Distribution.py:78: IntegrationWarning: The integral is probably divergent, or slowly convergent.\n",
      "  result = integrate.quad(self.integrand, 0, z, (z,), epsabs=1e-9, epsrel=1e-9)\n"
     ]
    },
    {
     "data": {
      "text/plain": [
       "<Figure size 640x480 with 1 Axes>"
      ],
      "image/png": "[encoded data removed]"
     },
     "metadata": {},
     "output_type": "display_data"
    }
   ],
   "execution_count": 59
  },
  {
   "metadata": {
    "ExecuteTime": {
     "end_time": "2024-08-05T17:57:44.721726Z",
     "start_time": "2024-08-05T17:57:44.637001Z"
    }
   },
   "cell_type": "code",
   "source": "integrate.quad(operator.quantities['s3'].pdf, 0, b*20)#, epsabs=1e-12, epsrel=1e-12)",
   "id": "8b6a7c15dec6a490",
   "outputs": [
    {
     "data": {
      "text/plain": [
       "(1.1907821328309168e-32, 5.6228215392302266e-33)"
      ]
     },
     "execution_count": 60,
     "metadata": {},
     "output_type": "execute_result"
    }
   ],
   "execution_count": 60
  },
  {
   "metadata": {
    "ExecuteTime": {
     "end_time": "2024-08-05T17:57:44.728014Z",
     "start_time": "2024-08-05T17:57:44.722304Z"
    }
   },
   "cell_type": "code",
   "source": [
    "z = 10_000_000\n",
    "integrate.quad(lambda x: gamma.pdf(x, a=10, scale=2000) * gamma.pdf(z / x, a=10, scale=2000) * (1 / np.abs(x)), 0, z)"
   ],
   "id": "394b6192acc6cf7a",
   "outputs": [
    {
     "data": {
      "text/plain": [
       "(5.401254931707033e-17, 1.0739344137545699e-16)"
      ]
     },
     "execution_count": 61,
     "metadata": {},
     "output_type": "execute_result"
    }
   ],
   "execution_count": 61
  },
  {
   "metadata": {
    "ExecuteTime": {
     "end_time": "2024-08-05T17:57:46.380455Z",
     "start_time": "2024-08-05T17:57:44.728598Z"
    }
   },
   "cell_type": "code",
   "source": [
    "import numpy as np\n",
    "import matplotlib.pyplot as plt\n",
    "from scipy import stats\n",
    "import scipy as sp\n",
    "\n",
    "interp1d = sp.interpolate.interp1d\n",
    "trapezoid = sp.integrate.trapezoid\n",
    "\n",
    "# Time domain vector - needed in class\n",
    "dt = 0.01\n",
    "t_max = 10\n",
    "T = np.arange(dt, t_max + dt, dt)\n",
    "\n",
    "# Distance domain vector - needed in class\n",
    "dd = 0.01\n",
    "d_max = 10_000_000\n",
    "D = np.arange(0, d_max + dd, dd)\n",
    "\n",
    "class MultiplicativeModel(stats.rv_continuous):\n",
    "    def __init__(self, Tmodel, Vmodel, *args, **kwargs):\n",
    "        super().__init__(*args, **kwargs)\n",
    "        self.Tmodel = Tmodel # The time-domain probability function\n",
    "        self.Vmodel = Vmodel # The velocity-domain probability function\n",
    "\n",
    "        # Create vectors for interpolation of distributions        \n",
    "        self.pdf_vec = np.array([trapezoid(self.Tmodel.pdf(T) * \\\n",
    "                                       self.Vmodel.pdf(_ / T) / T, dx = dt) \\\n",
    "                                 for _ in D])\n",
    "        self.cdf_vec = np.cumsum(self.pdf_vec) * dd\n",
    "        self.sf_vec = 1 - self.cdf_vec\n",
    "\n",
    "        # define key functions for rv_continuous class\n",
    "        self._pdf = interp1d(D, self.pdf_vec, assume_sorted=True)        \n",
    "        self._sf = interp1d(D, self.sf_vec, assume_sorted=True)        \n",
    "        self._cdf = interp1d(D, self.cdf_vec, assume_sorted=True)\n",
    "\n",
    "        # Extraolation option below is necessary because sometimes rvs picks \n",
    "        # a number really really close to 1 or 0 and this spits out an error if it\n",
    "        # is outside of the interpolation range.        \n",
    "        self._ppf = interp1d(self.cdf_vec, D, assume_sorted=True, \n",
    "                             fill_value = 'extrapolate')\n",
    "        # Moments\n",
    "        self._munp = lambda n, *args: np.trapz(self.pdf_vec * D ** n, dx=dd)"
   ],
   "id": "81121d260c020da6",
   "outputs": [],
   "execution_count": 62
  },
  {
   "metadata": {
    "ExecuteTime": {
     "end_time": "2024-08-05T17:58:28.292455Z",
     "start_time": "2024-08-05T17:57:46.381308Z"
    }
   },
   "cell_type": "code",
   "source": [
    "dv = 0.01\n",
    "v_max = 10\n",
    "V = np.arange(0, v_max + dv, dv)\n",
    "\n",
    "model = MultiplicativeModel(stats.gamma(a=10, scale=2000),\n",
    "                            stats.gamma(a=10, scale=2000))\n",
    "\n",
    "\n",
    "# test moments and stats functions\n",
    "print(f'median: {model.median()}')\n",
    "# median: 8.700970199181763\n",
    "print(f'moments: {model.stats(moments = \"mvsk\")}')\n",
    "#moments: (array(9.00872026), array(12.2315612), array(0.44131568), array(0.16819043))\n",
    "\n",
    "plt.figure(figsize=(6,4))\n",
    "plt.plot(T, model.Tmodel.pdf(T), label = 'Time PDF')\n",
    "plt.plot(V, model.Vmodel.pdf(V), label = 'Velocity PDF')\n",
    "plt.plot(D, model.pdf(D), label = 'Distance PDF')\n",
    "plt.plot(D, model.cdf(D), label = 'Distance CDF')\n",
    "plt.plot(D, model.sf(D), label = 'Distance SF')\n",
    "\n",
    "x = model.rvs(size=10**5)\n",
    "plt.hist(x, bins = 50, density = True, alpha = 0.5, label = 'Sampled distribution')\n",
    "plt.legend()\n",
    "plt.xlim([0,30])"
   ],
   "id": "8e8fa0c175aea76f",
   "outputs": [
    {
     "ename": "KeyboardInterrupt",
     "evalue": "",
     "output_type": "error",
     "traceback": [
      "\u001B[0;31m---------------------------------------------------------------------------\u001B[0m",
      "\u001B[0;31mKeyboardInterrupt\u001B[0m                         Traceback (most recent call last)",
      "\u001B[0;32m/var/folders/h6/cp26jlh506zdkjnhvz2h8hww0000gp/T/ipykernel_27617/2101306558.py\u001B[0m in \u001B[0;36m?\u001B[0;34m()\u001B[0m\n\u001B[1;32m      1\u001B[0m \u001B[0mdv\u001B[0m \u001B[0;34m=\u001B[0m \u001B[0;36m0.01\u001B[0m\u001B[0;34m\u001B[0m\u001B[0;34m\u001B[0m\u001B[0m\n\u001B[1;32m      2\u001B[0m \u001B[0mv_max\u001B[0m \u001B[0;34m=\u001B[0m \u001B[0;36m10\u001B[0m\u001B[0;34m\u001B[0m\u001B[0;34m\u001B[0m\u001B[0m\n\u001B[1;32m      3\u001B[0m \u001B[0mV\u001B[0m \u001B[0;34m=\u001B[0m \u001B[0mnp\u001B[0m\u001B[0;34m.\u001B[0m\u001B[0marange\u001B[0m\u001B[0;34m(\u001B[0m\u001B[0;36m0\u001B[0m\u001B[0;34m,\u001B[0m \u001B[0mv_max\u001B[0m \u001B[0;34m+\u001B[0m \u001B[0mdv\u001B[0m\u001B[0;34m,\u001B[0m \u001B[0mdv\u001B[0m\u001B[0;34m)\u001B[0m\u001B[0;34m\u001B[0m\u001B[0;34m\u001B[0m\u001B[0m\n\u001B[1;32m      4\u001B[0m \u001B[0;34m\u001B[0m\u001B[0m\n\u001B[0;32m----> 5\u001B[0;31m model = MultiplicativeModel(stats.gamma(a=10, scale=2000),\n\u001B[0m\u001B[1;32m      6\u001B[0m                             \u001B[0mstats\u001B[0m\u001B[0;34m.\u001B[0m\u001B[0mgamma\u001B[0m\u001B[0;34m(\u001B[0m\u001B[0ma\u001B[0m\u001B[0;34m=\u001B[0m\u001B[0;36m10\u001B[0m\u001B[0;34m,\u001B[0m \u001B[0mscale\u001B[0m\u001B[0;34m=\u001B[0m\u001B[0;36m2000\u001B[0m\u001B[0;34m)\u001B[0m\u001B[0;34m)\u001B[0m\u001B[0;34m\u001B[0m\u001B[0;34m\u001B[0m\u001B[0m\n\u001B[1;32m      7\u001B[0m \u001B[0;34m\u001B[0m\u001B[0m\n\u001B[1;32m      8\u001B[0m \u001B[0;34m\u001B[0m\u001B[0m\n",
      "\u001B[0;32m/var/folders/h6/cp26jlh506zdkjnhvz2h8hww0000gp/T/ipykernel_27617/1842496409.py\u001B[0m in \u001B[0;36m?\u001B[0;34m(self, Tmodel, Vmodel, *args, **kwargs)\u001B[0m\n\u001B[1;32m     22\u001B[0m         \u001B[0mself\u001B[0m\u001B[0;34m.\u001B[0m\u001B[0mTmodel\u001B[0m \u001B[0;34m=\u001B[0m \u001B[0mTmodel\u001B[0m \u001B[0;31m# The time-domain probability function\u001B[0m\u001B[0;34m\u001B[0m\u001B[0;34m\u001B[0m\u001B[0m\n\u001B[1;32m     23\u001B[0m         \u001B[0mself\u001B[0m\u001B[0;34m.\u001B[0m\u001B[0mVmodel\u001B[0m \u001B[0;34m=\u001B[0m \u001B[0mVmodel\u001B[0m \u001B[0;31m# The velocity-domain probability function\u001B[0m\u001B[0;34m\u001B[0m\u001B[0;34m\u001B[0m\u001B[0m\n\u001B[1;32m     24\u001B[0m \u001B[0;34m\u001B[0m\u001B[0m\n\u001B[1;32m     25\u001B[0m         \u001B[0;31m# Create vectors for interpolation of distributions\u001B[0m\u001B[0;34m\u001B[0m\u001B[0;34m\u001B[0m\u001B[0m\n\u001B[0;32m---> 26\u001B[0;31m         self.pdf_vec = np.array([trapezoid(self.Tmodel.pdf(T) * \\\n\u001B[0m\u001B[1;32m     27\u001B[0m                                        self.Vmodel.pdf(_ / T) / T, dx = dt) \\\n\u001B[1;32m     28\u001B[0m                                  \u001B[0;32mfor\u001B[0m \u001B[0m_\u001B[0m \u001B[0;32min\u001B[0m \u001B[0mD\u001B[0m\u001B[0;34m]\u001B[0m\u001B[0;34m)\u001B[0m\u001B[0;34m\u001B[0m\u001B[0;34m\u001B[0m\u001B[0m\n\u001B[1;32m     29\u001B[0m         \u001B[0mself\u001B[0m\u001B[0;34m.\u001B[0m\u001B[0mcdf_vec\u001B[0m \u001B[0;34m=\u001B[0m \u001B[0mnp\u001B[0m\u001B[0;34m.\u001B[0m\u001B[0mcumsum\u001B[0m\u001B[0;34m(\u001B[0m\u001B[0mself\u001B[0m\u001B[0;34m.\u001B[0m\u001B[0mpdf_vec\u001B[0m\u001B[0;34m)\u001B[0m \u001B[0;34m*\u001B[0m \u001B[0mdd\u001B[0m\u001B[0;34m\u001B[0m\u001B[0;34m\u001B[0m\u001B[0m\n",
      "\u001B[0;32m~/codeprojects/financial-modeling/venv/lib/python3.12/site-packages/scipy/stats/_distn_infrastructure.py\u001B[0m in \u001B[0;36m?\u001B[0;34m(self, x)\u001B[0m\n\u001B[1;32m    593\u001B[0m     \u001B[0;32mdef\u001B[0m \u001B[0mpdf\u001B[0m\u001B[0;34m(\u001B[0m\u001B[0mself\u001B[0m\u001B[0;34m,\u001B[0m \u001B[0mx\u001B[0m\u001B[0;34m)\u001B[0m\u001B[0;34m:\u001B[0m\u001B[0;34m\u001B[0m\u001B[0;34m\u001B[0m\u001B[0m\n\u001B[0;32m--> 594\u001B[0;31m         \u001B[0;32mreturn\u001B[0m \u001B[0mself\u001B[0m\u001B[0;34m.\u001B[0m\u001B[0mdist\u001B[0m\u001B[0;34m.\u001B[0m\u001B[0mpdf\u001B[0m\u001B[0;34m(\u001B[0m\u001B[0mx\u001B[0m\u001B[0;34m,\u001B[0m \u001B[0;34m*\u001B[0m\u001B[0mself\u001B[0m\u001B[0;34m.\u001B[0m\u001B[0margs\u001B[0m\u001B[0;34m,\u001B[0m \u001B[0;34m**\u001B[0m\u001B[0mself\u001B[0m\u001B[0;34m.\u001B[0m\u001B[0mkwds\u001B[0m\u001B[0;34m)\u001B[0m\u001B[0;34m\u001B[0m\u001B[0;34m\u001B[0m\u001B[0m\n\u001B[0m",
      "\u001B[0;32m~/codeprojects/financial-modeling/venv/lib/python3.12/site-packages/scipy/stats/_distn_infrastructure.py\u001B[0m in \u001B[0;36m?\u001B[0;34m(self, x, *args, **kwds)\u001B[0m\n\u001B[1;32m   2032\u001B[0m         \u001B[0mputmask\u001B[0m\u001B[0;34m(\u001B[0m\u001B[0moutput\u001B[0m\u001B[0;34m,\u001B[0m \u001B[0;34m(\u001B[0m\u001B[0;36m1\u001B[0m\u001B[0;34m-\u001B[0m\u001B[0mcond0\u001B[0m\u001B[0;34m)\u001B[0m\u001B[0;34m+\u001B[0m\u001B[0mnp\u001B[0m\u001B[0;34m.\u001B[0m\u001B[0misnan\u001B[0m\u001B[0;34m(\u001B[0m\u001B[0mx\u001B[0m\u001B[0;34m)\u001B[0m\u001B[0;34m,\u001B[0m \u001B[0mself\u001B[0m\u001B[0;34m.\u001B[0m\u001B[0mbadvalue\u001B[0m\u001B[0;34m)\u001B[0m\u001B[0;34m\u001B[0m\u001B[0;34m\u001B[0m\u001B[0m\n\u001B[1;32m   2033\u001B[0m         \u001B[0;32mif\u001B[0m \u001B[0mnp\u001B[0m\u001B[0;34m.\u001B[0m\u001B[0many\u001B[0m\u001B[0;34m(\u001B[0m\u001B[0mcond\u001B[0m\u001B[0;34m)\u001B[0m\u001B[0;34m:\u001B[0m\u001B[0;34m\u001B[0m\u001B[0;34m\u001B[0m\u001B[0m\n\u001B[1;32m   2034\u001B[0m             \u001B[0mgoodargs\u001B[0m \u001B[0;34m=\u001B[0m \u001B[0margsreduce\u001B[0m\u001B[0;34m(\u001B[0m\u001B[0mcond\u001B[0m\u001B[0;34m,\u001B[0m \u001B[0;34m*\u001B[0m\u001B[0;34m(\u001B[0m\u001B[0;34m(\u001B[0m\u001B[0mx\u001B[0m\u001B[0;34m,\u001B[0m\u001B[0;34m)\u001B[0m\u001B[0;34m+\u001B[0m\u001B[0margs\u001B[0m\u001B[0;34m+\u001B[0m\u001B[0;34m(\u001B[0m\u001B[0mscale\u001B[0m\u001B[0;34m,\u001B[0m\u001B[0;34m)\u001B[0m\u001B[0;34m)\u001B[0m\u001B[0;34m)\u001B[0m\u001B[0;34m\u001B[0m\u001B[0;34m\u001B[0m\u001B[0m\n\u001B[1;32m   2035\u001B[0m             \u001B[0mscale\u001B[0m\u001B[0;34m,\u001B[0m \u001B[0mgoodargs\u001B[0m \u001B[0;34m=\u001B[0m \u001B[0mgoodargs\u001B[0m\u001B[0;34m[\u001B[0m\u001B[0;34m-\u001B[0m\u001B[0;36m1\u001B[0m\u001B[0;34m]\u001B[0m\u001B[0;34m,\u001B[0m \u001B[0mgoodargs\u001B[0m\u001B[0;34m[\u001B[0m\u001B[0;34m:\u001B[0m\u001B[0;34m-\u001B[0m\u001B[0;36m1\u001B[0m\u001B[0;34m]\u001B[0m\u001B[0;34m\u001B[0m\u001B[0;34m\u001B[0m\u001B[0m\n\u001B[0;32m-> 2036\u001B[0;31m             \u001B[0mplace\u001B[0m\u001B[0;34m(\u001B[0m\u001B[0moutput\u001B[0m\u001B[0;34m,\u001B[0m \u001B[0mcond\u001B[0m\u001B[0;34m,\u001B[0m \u001B[0mself\u001B[0m\u001B[0;34m.\u001B[0m\u001B[0m_pdf\u001B[0m\u001B[0;34m(\u001B[0m\u001B[0;34m*\u001B[0m\u001B[0mgoodargs\u001B[0m\u001B[0;34m)\u001B[0m \u001B[0;34m/\u001B[0m \u001B[0mscale\u001B[0m\u001B[0;34m)\u001B[0m\u001B[0;34m\u001B[0m\u001B[0;34m\u001B[0m\u001B[0m\n\u001B[0m\u001B[1;32m   2037\u001B[0m         \u001B[0;32mif\u001B[0m \u001B[0moutput\u001B[0m\u001B[0;34m.\u001B[0m\u001B[0mndim\u001B[0m \u001B[0;34m==\u001B[0m \u001B[0;36m0\u001B[0m\u001B[0;34m:\u001B[0m\u001B[0;34m\u001B[0m\u001B[0;34m\u001B[0m\u001B[0m\n\u001B[1;32m   2038\u001B[0m             \u001B[0;32mreturn\u001B[0m \u001B[0moutput\u001B[0m\u001B[0;34m[\u001B[0m\u001B[0;34m(\u001B[0m\u001B[0;34m)\u001B[0m\u001B[0;34m]\u001B[0m\u001B[0;34m\u001B[0m\u001B[0;34m\u001B[0m\u001B[0m\n\u001B[1;32m   2039\u001B[0m         \u001B[0;32mreturn\u001B[0m \u001B[0moutput\u001B[0m\u001B[0;34m\u001B[0m\u001B[0;34m\u001B[0m\u001B[0m\n",
      "\u001B[0;32m~/codeprojects/financial-modeling/venv/lib/python3.12/site-packages/scipy/stats/_continuous_distns.py\u001B[0m in \u001B[0;36m?\u001B[0;34m(self, x, a)\u001B[0m\n\u001B[1;32m   3405\u001B[0m     \u001B[0;32mdef\u001B[0m \u001B[0m_pdf\u001B[0m\u001B[0;34m(\u001B[0m\u001B[0mself\u001B[0m\u001B[0;34m,\u001B[0m \u001B[0mx\u001B[0m\u001B[0;34m,\u001B[0m \u001B[0ma\u001B[0m\u001B[0;34m)\u001B[0m\u001B[0;34m:\u001B[0m\u001B[0;34m\u001B[0m\u001B[0;34m\u001B[0m\u001B[0m\n\u001B[1;32m   3406\u001B[0m         \u001B[0;31m# gamma.pdf(x, a) = x**(a-1) * exp(-x) / gamma(a)\u001B[0m\u001B[0;34m\u001B[0m\u001B[0;34m\u001B[0m\u001B[0m\n\u001B[0;32m-> 3407\u001B[0;31m         \u001B[0;32mreturn\u001B[0m \u001B[0mnp\u001B[0m\u001B[0;34m.\u001B[0m\u001B[0mexp\u001B[0m\u001B[0;34m(\u001B[0m\u001B[0mself\u001B[0m\u001B[0;34m.\u001B[0m\u001B[0m_logpdf\u001B[0m\u001B[0;34m(\u001B[0m\u001B[0mx\u001B[0m\u001B[0;34m,\u001B[0m \u001B[0ma\u001B[0m\u001B[0;34m)\u001B[0m\u001B[0;34m)\u001B[0m\u001B[0;34m\u001B[0m\u001B[0;34m\u001B[0m\u001B[0m\n\u001B[0m",
      "\u001B[0;32m~/codeprojects/financial-modeling/venv/lib/python3.12/site-packages/scipy/stats/_continuous_distns.py\u001B[0m in \u001B[0;36m?\u001B[0;34m(self, x, a)\u001B[0m\n\u001B[1;32m   3409\u001B[0m     \u001B[0;32mdef\u001B[0m \u001B[0m_logpdf\u001B[0m\u001B[0;34m(\u001B[0m\u001B[0mself\u001B[0m\u001B[0;34m,\u001B[0m \u001B[0mx\u001B[0m\u001B[0;34m,\u001B[0m \u001B[0ma\u001B[0m\u001B[0;34m)\u001B[0m\u001B[0;34m:\u001B[0m\u001B[0;34m\u001B[0m\u001B[0;34m\u001B[0m\u001B[0m\n\u001B[0;32m-> 3410\u001B[0;31m         \u001B[0;32mreturn\u001B[0m \u001B[0msc\u001B[0m\u001B[0;34m.\u001B[0m\u001B[0mxlogy\u001B[0m\u001B[0;34m(\u001B[0m\u001B[0ma\u001B[0m\u001B[0;34m-\u001B[0m\u001B[0;36m1.0\u001B[0m\u001B[0;34m,\u001B[0m \u001B[0mx\u001B[0m\u001B[0;34m)\u001B[0m \u001B[0;34m-\u001B[0m \u001B[0mx\u001B[0m \u001B[0;34m-\u001B[0m \u001B[0msc\u001B[0m\u001B[0;34m.\u001B[0m\u001B[0mgammaln\u001B[0m\u001B[0;34m(\u001B[0m\u001B[0ma\u001B[0m\u001B[0;34m)\u001B[0m\u001B[0;34m\u001B[0m\u001B[0;34m\u001B[0m\u001B[0m\n\u001B[0m",
      "\u001B[0;31mKeyboardInterrupt\u001B[0m: "
     ]
    }
   ],
   "execution_count": 63
  },
  {
   "metadata": {
    "ExecuteTime": {
     "end_time": "2024-08-05T17:58:28.293182Z",
     "start_time": "2024-08-05T17:58:28.293114Z"
    }
   },
   "cell_type": "code",
   "source": "",
   "id": "75a1d8f2a1debf6a",
   "outputs": [],
   "execution_count": null
  }
 ],
 "metadata": {
  "kernelspec": {
   "display_name": "Python 3",
   "language": "python",
   "name": "python3"
  },
  "language_info": {
   "codemirror_mode": {
    "name": "ipython",
    "version": 2
   },
   "file_extension": ".py",
   "mimetype": "text/x-python",
   "name": "python",
   "nbconvert_exporter": "python",
   "pygments_lexer": "ipython2",
   "version": "2.7.6"
  }
 },
 "nbformat": 4,
 "nbformat_minor": 5
}
